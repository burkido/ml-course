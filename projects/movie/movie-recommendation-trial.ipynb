{
 "cells": [
  {
   "cell_type": "code",
   "execution_count": 35,
   "metadata": {},
   "outputs": [],
   "source": [
    "import pandas as pd\n",
    "import numpy as np\n",
    "import matplotlib.pyplot as plt\n",
    "import seaborn as sns\n",
    "import sklearn\n",
    "from sklearn.metrics.pairwise import linear_kernel, cosine_similarity\n",
    "from sklearn.model_selection import train_test_split\n",
    "from sklearn.feature_extraction.text import TfidfVectorizer, CountVectorizer"
   ]
  },
  {
   "cell_type": "code",
   "execution_count": 36,
   "metadata": {},
   "outputs": [],
   "source": [
    "df_movie = pd.read_csv('/home/Machine Learning/projects/movie/dataset/n_movies.csv')"
   ]
  },
  {
   "cell_type": "code",
   "execution_count": 37,
   "metadata": {},
   "outputs": [
    {
     "name": "stdout",
     "output_type": "stream",
     "text": [
      "Number of training set:  7467\n",
      "Number of test set:  2490\n",
      "                                title year certificate duration   genre  \\\n",
      "6512  My Wife and I Bought A Ranch...  NaN         NaN      NaN  Horror   \n",
      "\n",
      "      rating                                        description stars votes  \n",
      "6512     NaN  A young married couple moves onto a secluded r...    []   NaN  \n"
     ]
    }
   ],
   "source": [
    "train_data, test_data = train_test_split(df_movie, test_size=0.25)\n",
    "print('Number of training set: ', len(train_data))\n",
    "print('Number of test set: ', len(test_data))\n",
    "print(train_data.head(1))"
   ]
  },
  {
   "cell_type": "code",
   "execution_count": 38,
   "metadata": {},
   "outputs": [],
   "source": [
    "tf = TfidfVectorizer(analyzer='word', ngram_range=(1, 2), min_df=0, stop_words='english')\n",
    "tfidf_matrix = tf.fit_transform(train_data['description'])"
   ]
  },
  {
   "cell_type": "code",
   "execution_count": 39,
   "metadata": {},
   "outputs": [
    {
     "data": {
      "text/plain": [
       "(7467, 105654)"
      ]
     },
     "execution_count": 39,
     "metadata": {},
     "output_type": "execute_result"
    }
   ],
   "source": [
    "tfidf_matrix.shape"
   ]
  },
  {
   "cell_type": "code",
   "execution_count": 40,
   "metadata": {},
   "outputs": [],
   "source": [
    "cosine_sim = linear_kernel(tfidf_matrix, tfidf_matrix)"
   ]
  },
  {
   "cell_type": "code",
   "execution_count": 42,
   "metadata": {},
   "outputs": [
    {
     "data": {
      "text/plain": [
       "array([1., 0., 0., ..., 0., 0., 0.])"
      ]
     },
     "execution_count": 42,
     "metadata": {},
     "output_type": "execute_result"
    }
   ],
   "source": [
    "cosine_sim[0]"
   ]
  },
  {
   "cell_type": "code",
   "execution_count": 45,
   "metadata": {},
   "outputs": [],
   "source": [
    "df_movie = df_movie.reset_index()\n",
    "titles = df_movie['title']\n",
    "indices = pd.Series(df_movie.index, index=df_movie['title'])"
   ]
  },
  {
   "cell_type": "code",
   "execution_count": 75,
   "metadata": {},
   "outputs": [
    {
     "name": "stdout",
     "output_type": "stream",
     "text": [
      "(9957,) (7467, 7467)\n"
     ]
    }
   ],
   "source": [
    "print(indices.shape, cosine_sim.shape)"
   ]
  },
  {
   "cell_type": "code",
   "execution_count": 67,
   "metadata": {},
   "outputs": [],
   "source": [
    "#get recommendations from cosine similartiy matrix\n",
    "def get_recommendations(title):\n",
    "    #get index of movie that matches title\n",
    "    idx = indices[title]\n",
    "    #get pairwise similarity scores of all movies with that movie\n",
    "    sim_scores = list(enumerate(cosine_sim[idx]))\n",
    "    #sort movies based on similarity scores\n",
    "    sim_scores = sorted(sim_scores, reverse=True)\n",
    "    #get scores of 10 most similar movies\n",
    "    sim_scores = sim_scores[1:11]\n",
    "    #get movie indices\n",
    "    movie_indices = [i[0] for i in sim_scores]\n",
    "    #return top 10 most similar movies\n",
    "    return df_movie['title'].iloc[movie_indices]"
   ]
  },
  {
   "cell_type": "code",
   "execution_count": 79,
   "metadata": {},
   "outputs": [
    {
     "data": {
      "text/plain": [
       "7465                                         K.O. 3an Guo\n",
       "7464                                  Your Life Is a Joke\n",
       "7463                    Cuba's Long Shadow of Remembrance\n",
       "7462    What 16 Movies Looked Like Behind the Scenes i...\n",
       "7461                                  Amy and the Orphans\n",
       "7460                                        Stunt Science\n",
       "7459                         River, El Más Grande Siempre\n",
       "7458              One Piece: Entering into the Grand Line\n",
       "7457                         Bigflo & Oli: Hip Hop Frenzy\n",
       "7456                                Fary Is the New Black\n",
       "Name: title, dtype: object"
      ]
     },
     "execution_count": 79,
     "metadata": {},
     "output_type": "execute_result"
    }
   ],
   "source": [
    "get_recommendations('The Secret Life of My Secretary').head(20)"
   ]
  }
 ],
 "metadata": {
  "kernelspec": {
   "display_name": "Python 3.9.12 ('base')",
   "language": "python",
   "name": "python3"
  },
  "language_info": {
   "codemirror_mode": {
    "name": "ipython",
    "version": 3
   },
   "file_extension": ".py",
   "mimetype": "text/x-python",
   "name": "python",
   "nbconvert_exporter": "python",
   "pygments_lexer": "ipython3",
   "version": "3.9.12"
  },
  "orig_nbformat": 4,
  "vscode": {
   "interpreter": {
    "hash": "d4d1e4263499bec80672ea0156c357c1ee493ec2b1c70f0acce89fc37c4a6abe"
   }
  }
 },
 "nbformat": 4,
 "nbformat_minor": 2
}
