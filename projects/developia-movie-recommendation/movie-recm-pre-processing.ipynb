{
 "cells": [
  {
   "cell_type": "code",
   "execution_count": 386,
   "metadata": {},
   "outputs": [],
   "source": [
    "import pandas as pd\n",
    "from datetime import datetime"
   ]
  },
  {
   "cell_type": "code",
   "execution_count": 387,
   "metadata": {},
   "outputs": [],
   "source": [
    "df = pd.read_csv('/home/Machine Learning/projects/developia-movie-recommendation/dataset/movie_dataset.csv')"
   ]
  },
  {
   "cell_type": "markdown",
   "metadata": {},
   "source": [
    "First 5 tuple"
   ]
  },
  {
   "cell_type": "code",
   "execution_count": null,
   "metadata": {},
   "outputs": [],
   "source": [
    "df.head(5)"
   ]
  },
  {
   "cell_type": "markdown",
   "metadata": {},
   "source": [
    "Type of the columns"
   ]
  },
  {
   "cell_type": "code",
   "execution_count": null,
   "metadata": {},
   "outputs": [],
   "source": [
    "df.dtypes"
   ]
  },
  {
   "cell_type": "markdown",
   "metadata": {},
   "source": []
  },
  {
   "cell_type": "markdown",
   "metadata": {},
   "source": [
    "Display the number of null counts of columns"
   ]
  },
  {
   "cell_type": "code",
   "execution_count": null,
   "metadata": {},
   "outputs": [],
   "source": [
    "df.isnull().sum()"
   ]
  },
  {
   "cell_type": "markdown",
   "metadata": {},
   "source": [
    "Get the longest movie title"
   ]
  },
  {
   "cell_type": "code",
   "execution_count": 390,
   "metadata": {},
   "outputs": [
    {
     "data": {
      "text/plain": [
       "5097    Voyna i mir\n",
       "Name: title, dtype: object"
      ]
     },
     "execution_count": 390,
     "metadata": {},
     "output_type": "execute_result"
    }
   ],
   "source": [
    "df[df['runtime'] == df['runtime'].max()]['title']\n",
    "#df['title'][5097]"
   ]
  },
  {
   "cell_type": "code",
   "execution_count": null,
   "metadata": {},
   "outputs": [],
   "source": [
    "#get the title and rate of null values\n",
    "df[df['keywords'].isnull()][['title', 'rate', 'release_date']]\n"
   ]
  },
  {
   "cell_type": "code",
   "execution_count": null,
   "metadata": {},
   "outputs": [],
   "source": [
    "df_without_null_kw = df[df['keywords'].notnull()]\n",
    "print(df.count(), df_without_null_kw.count())"
   ]
  },
  {
   "cell_type": "code",
   "execution_count": 393,
   "metadata": {},
   "outputs": [],
   "source": [
    "df_drop_na = df.copy()"
   ]
  },
  {
   "cell_type": "code",
   "execution_count": null,
   "metadata": {},
   "outputs": [],
   "source": [
    "#drop if keywords is null\n",
    "df_drop_na = df_drop_na[df_drop_na['description'].isnull()]\n",
    "df_drop_na.count()"
   ]
  },
  {
   "cell_type": "code",
   "execution_count": 395,
   "metadata": {},
   "outputs": [
    {
     "data": {
      "text/html": [
       "<div>\n",
       "<style scoped>\n",
       "    .dataframe tbody tr th:only-of-type {\n",
       "        vertical-align: middle;\n",
       "    }\n",
       "\n",
       "    .dataframe tbody tr th {\n",
       "        vertical-align: top;\n",
       "    }\n",
       "\n",
       "    .dataframe thead th {\n",
       "        text-align: right;\n",
       "    }\n",
       "</style>\n",
       "<table border=\"1\" class=\"dataframe\">\n",
       "  <thead>\n",
       "    <tr style=\"text-align: right;\">\n",
       "      <th></th>\n",
       "      <th>_id</th>\n",
       "      <th>url</th>\n",
       "      <th>title</th>\n",
       "      <th>description</th>\n",
       "      <th>genres</th>\n",
       "      <th>runtime</th>\n",
       "      <th>runtime_str</th>\n",
       "      <th>release_date</th>\n",
       "      <th>langs</th>\n",
       "      <th>origins</th>\n",
       "      <th>production_companies</th>\n",
       "      <th>top_cast</th>\n",
       "      <th>director_creator</th>\n",
       "      <th>rate</th>\n",
       "      <th>type</th>\n",
       "      <th>img_url</th>\n",
       "      <th>keywords</th>\n",
       "    </tr>\n",
       "  </thead>\n",
       "  <tbody>\n",
       "    <tr>\n",
       "      <th>12</th>\n",
       "      <td>tt6263850</td>\n",
       "      <td>https://www.imdb.com/title/tt6263850</td>\n",
       "      <td>Deadpool 3</td>\n",
       "      <td>NaN</td>\n",
       "      <td>['Action', 'Comedy', 'Sci-Fi']</td>\n",
       "      <td>NaN</td>\n",
       "      <td>NaN</td>\n",
       "      <td>06-09-24</td>\n",
       "      <td>['English']</td>\n",
       "      <td>['United States']</td>\n",
       "      <td>['Marvel Studios']</td>\n",
       "      <td>[{'actor': 'Ryan Reynolds', 'character': 'Wade...</td>\n",
       "      <td>['Shawn Levy']</td>\n",
       "      <td>NaN</td>\n",
       "      <td>movie</td>\n",
       "      <td>https://m.media-amazon.com/images/M/MV5BMGI0ZD...</td>\n",
       "      <td>NaN</td>\n",
       "    </tr>\n",
       "    <tr>\n",
       "      <th>93</th>\n",
       "      <td>tt15239678</td>\n",
       "      <td>https://www.imdb.com/title/tt15239678</td>\n",
       "      <td>Dune: Part Two</td>\n",
       "      <td>NaN</td>\n",
       "      <td>['Action', 'Adventure', 'Drama']</td>\n",
       "      <td>NaN</td>\n",
       "      <td>NaN</td>\n",
       "      <td>17-11-23</td>\n",
       "      <td>['English']</td>\n",
       "      <td>['United States', 'Canada']</td>\n",
       "      <td>['Legendary Entertainment', 'Warner Bros. Ente...</td>\n",
       "      <td>[{'actor': 'Florence Pugh', 'character': 'Prin...</td>\n",
       "      <td>['Denis Villeneuve']</td>\n",
       "      <td>NaN</td>\n",
       "      <td>movie</td>\n",
       "      <td>https://m.media-amazon.com/images/M/MV5BYjFkM2...</td>\n",
       "      <td>NaN</td>\n",
       "    </tr>\n",
       "    <tr>\n",
       "      <th>2715</th>\n",
       "      <td>tt11210390</td>\n",
       "      <td>https://www.imdb.com/title/tt11210390</td>\n",
       "      <td>Astérix &amp; Obélix: L'Empire du Milieu</td>\n",
       "      <td>NaN</td>\n",
       "      <td>['Adventure', 'Comedy', 'Family']</td>\n",
       "      <td>NaN</td>\n",
       "      <td>NaN</td>\n",
       "      <td>24-02-23</td>\n",
       "      <td>['French']</td>\n",
       "      <td>['France']</td>\n",
       "      <td>['Artémis Productions', 'Gialla Productions', ...</td>\n",
       "      <td>[{'actor': 'Marion Cotillard', 'character': 'C...</td>\n",
       "      <td>['Guillaume Canet']</td>\n",
       "      <td>NaN</td>\n",
       "      <td>movie</td>\n",
       "      <td>https://m.media-amazon.com/images/M/MV5BY2YwMj...</td>\n",
       "      <td>NaN</td>\n",
       "    </tr>\n",
       "    <tr>\n",
       "      <th>5444</th>\n",
       "      <td>tt15655024</td>\n",
       "      <td>https://www.imdb.com/title/tt15655024</td>\n",
       "      <td>Milano Debbie</td>\n",
       "      <td>NaN</td>\n",
       "      <td>['War']</td>\n",
       "      <td>95.0</td>\n",
       "      <td>1 hour 35 minutes</td>\n",
       "      <td>21-02-21</td>\n",
       "      <td>['Italian']</td>\n",
       "      <td>['Italy']</td>\n",
       "      <td>NaN</td>\n",
       "      <td>[{'actor': 'Zlatan Ibrahimovic', 'character': ...</td>\n",
       "      <td>['Zlatan Ibrahimovic', 'Romelu Lukaku']</td>\n",
       "      <td>NaN</td>\n",
       "      <td>movie</td>\n",
       "      <td>https://m.media-amazon.com/images/M/MV5BNmZlYW...</td>\n",
       "      <td>NaN</td>\n",
       "    </tr>\n",
       "    <tr>\n",
       "      <th>6537</th>\n",
       "      <td>tt0236305</td>\n",
       "      <td>https://www.imdb.com/title/tt0236305</td>\n",
       "      <td>El hombre del alazán</td>\n",
       "      <td>NaN</td>\n",
       "      <td>['Comedy', 'Drama', 'Western']</td>\n",
       "      <td>89.0</td>\n",
       "      <td>1 hour 29 minutes</td>\n",
       "      <td>01-10-59</td>\n",
       "      <td>['Spanish']</td>\n",
       "      <td>['Mexico']</td>\n",
       "      <td>['Producciones Matouk']</td>\n",
       "      <td>[{'actor': 'Fernando Casanova', 'character': '...</td>\n",
       "      <td>['Rogelio A. González']</td>\n",
       "      <td>8.2</td>\n",
       "      <td>movie</td>\n",
       "      <td>https://m.media-amazon.com/images/M/MV5BYjc5OD...</td>\n",
       "      <td>NaN</td>\n",
       "    </tr>\n",
       "  </tbody>\n",
       "</table>\n",
       "</div>"
      ],
      "text/plain": [
       "             _id                                    url  \\\n",
       "12     tt6263850   https://www.imdb.com/title/tt6263850   \n",
       "93    tt15239678  https://www.imdb.com/title/tt15239678   \n",
       "2715  tt11210390  https://www.imdb.com/title/tt11210390   \n",
       "5444  tt15655024  https://www.imdb.com/title/tt15655024   \n",
       "6537   tt0236305   https://www.imdb.com/title/tt0236305   \n",
       "\n",
       "                                     title description  \\\n",
       "12                              Deadpool 3         NaN   \n",
       "93                          Dune: Part Two         NaN   \n",
       "2715  Astérix & Obélix: L'Empire du Milieu         NaN   \n",
       "5444                         Milano Debbie         NaN   \n",
       "6537                  El hombre del alazán         NaN   \n",
       "\n",
       "                                 genres  runtime        runtime_str  \\\n",
       "12       ['Action', 'Comedy', 'Sci-Fi']      NaN                NaN   \n",
       "93     ['Action', 'Adventure', 'Drama']      NaN                NaN   \n",
       "2715  ['Adventure', 'Comedy', 'Family']      NaN                NaN   \n",
       "5444                            ['War']     95.0  1 hour 35 minutes   \n",
       "6537     ['Comedy', 'Drama', 'Western']     89.0  1 hour 29 minutes   \n",
       "\n",
       "     release_date        langs                      origins  \\\n",
       "12       06-09-24  ['English']            ['United States']   \n",
       "93       17-11-23  ['English']  ['United States', 'Canada']   \n",
       "2715     24-02-23   ['French']                   ['France']   \n",
       "5444     21-02-21  ['Italian']                    ['Italy']   \n",
       "6537     01-10-59  ['Spanish']                   ['Mexico']   \n",
       "\n",
       "                                   production_companies  \\\n",
       "12                                   ['Marvel Studios']   \n",
       "93    ['Legendary Entertainment', 'Warner Bros. Ente...   \n",
       "2715  ['Artémis Productions', 'Gialla Productions', ...   \n",
       "5444                                                NaN   \n",
       "6537                            ['Producciones Matouk']   \n",
       "\n",
       "                                               top_cast  \\\n",
       "12    [{'actor': 'Ryan Reynolds', 'character': 'Wade...   \n",
       "93    [{'actor': 'Florence Pugh', 'character': 'Prin...   \n",
       "2715  [{'actor': 'Marion Cotillard', 'character': 'C...   \n",
       "5444  [{'actor': 'Zlatan Ibrahimovic', 'character': ...   \n",
       "6537  [{'actor': 'Fernando Casanova', 'character': '...   \n",
       "\n",
       "                             director_creator  rate   type  \\\n",
       "12                             ['Shawn Levy']   NaN  movie   \n",
       "93                       ['Denis Villeneuve']   NaN  movie   \n",
       "2715                      ['Guillaume Canet']   NaN  movie   \n",
       "5444  ['Zlatan Ibrahimovic', 'Romelu Lukaku']   NaN  movie   \n",
       "6537                  ['Rogelio A. González']   8.2  movie   \n",
       "\n",
       "                                                img_url keywords  \n",
       "12    https://m.media-amazon.com/images/M/MV5BMGI0ZD...      NaN  \n",
       "93    https://m.media-amazon.com/images/M/MV5BYjFkM2...      NaN  \n",
       "2715  https://m.media-amazon.com/images/M/MV5BY2YwMj...      NaN  \n",
       "5444  https://m.media-amazon.com/images/M/MV5BNmZlYW...      NaN  \n",
       "6537  https://m.media-amazon.com/images/M/MV5BYjc5OD...      NaN  "
      ]
     },
     "execution_count": 395,
     "metadata": {},
     "output_type": "execute_result"
    }
   ],
   "source": [
    "df_drop_na = df_drop_na[df_drop_na['release_date'].notnull()]\n",
    "df_drop_na.shape\n",
    "df_drop_na.head(5)\n"
   ]
  },
  {
   "cell_type": "code",
   "execution_count": 396,
   "metadata": {},
   "outputs": [],
   "source": [
    "df_drop_na['release_date'] = df_drop_na['release_date'].apply(lambda release_date: datetime.strptime(str(release_date) + ' 00:00:00', '%d-%m-%y %H:%M:%S'))"
   ]
  },
  {
   "cell_type": "code",
   "execution_count": 397,
   "metadata": {},
   "outputs": [
    {
     "data": {
      "text/plain": [
       "12                                Deadpool 3\n",
       "93                            Dune: Part Two\n",
       "2715    Astérix & Obélix: L'Empire du Milieu\n",
       "6537                    El hombre del alazán\n",
       "6803                           El fronterizo\n",
       "Name: title, dtype: object"
      ]
     },
     "execution_count": 397,
     "metadata": {},
     "output_type": "execute_result"
    }
   ],
   "source": [
    "#print the title if year is greater than 2023\n",
    "max_date = datetime.strptime('01-01-2023', '%m-%d-%Y')\n",
    "df_drop_na[df_drop_na['release_date'] > max_date]['title']"
   ]
  }
 ],
 "metadata": {
  "kernelspec": {
   "display_name": "Python 3.9.2 64-bit",
   "language": "python",
   "name": "python3"
  },
  "language_info": {
   "codemirror_mode": {
    "name": "ipython",
    "version": 3
   },
   "file_extension": ".py",
   "mimetype": "text/x-python",
   "name": "python",
   "nbconvert_exporter": "python",
   "pygments_lexer": "ipython3",
   "version": "3.9.2"
  },
  "orig_nbformat": 4,
  "vscode": {
   "interpreter": {
    "hash": "31f2aee4e71d21fbe5cf8b01ff0e069b9275f58929596ceb00d14d90e3e16cd6"
   }
  }
 },
 "nbformat": 4,
 "nbformat_minor": 2
}
